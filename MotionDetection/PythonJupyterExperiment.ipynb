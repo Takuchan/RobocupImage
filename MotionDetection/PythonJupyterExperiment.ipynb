{
 "cells": [
  {
   "cell_type": "markdown",
   "id": "d5f4303f",
   "metadata": {},
   "source": [
    "# 数値範囲の考慮\n",
    "softplus(x) = log(1+e^x)"
   ]
  },
  {
   "cell_type": "code",
   "execution_count": 1,
   "id": "b9071d8a",
   "metadata": {},
   "outputs": [],
   "source": [
    "import numpy as np\n",
    "\n",
    "def softplus(x):\n",
    "    return np.log(1+np.exp(x))"
   ]
  },
  {
   "cell_type": "code",
   "execution_count": 6,
   "id": "9fdfbb1a",
   "metadata": {},
   "outputs": [
    {
     "data": {
      "text/plain": [
       "0.6931471805599453"
      ]
     },
     "execution_count": 6,
     "metadata": {},
     "output_type": "execute_result"
    }
   ],
   "source": [
    "softplus(0)"
   ]
  },
  {
   "cell_type": "code",
   "execution_count": 12,
   "id": "216821d9",
   "metadata": {},
   "outputs": [
    {
     "data": {
      "text/plain": [
       "3.141592653589793"
      ]
     },
     "execution_count": 12,
     "metadata": {},
     "output_type": "execute_result"
    }
   ],
   "source": []
  }
 ],
 "metadata": {
  "celltoolbar": "Raw セル書式",
  "kernelspec": {
   "display_name": "Python 3 (ipykernel)",
   "language": "python",
   "name": "python3"
  },
  "language_info": {
   "codemirror_mode": {
    "name": "ipython",
    "version": 3
   },
   "file_extension": ".py",
   "mimetype": "text/x-python",
   "name": "python",
   "nbconvert_exporter": "python",
   "pygments_lexer": "ipython3",
   "version": "3.9.12"
  }
 },
 "nbformat": 4,
 "nbformat_minor": 5
}
